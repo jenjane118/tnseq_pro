{
 "cells": [
  {
   "cell_type": "markdown",
   "metadata": {},
   "source": [
    "# Tn-seq Sequencing Data Processing Pipeline\n",
    "\n",
    "Jennifer Stiens\n",
    "2023\n",
    "j.j.stiens@gmail.com\n"
   ]
  },
  {
   "cell_type": "markdown",
   "metadata": {},
   "source": [
    "## Overview of Process\n",
    "\n",
    "1. Download from genewiz and sanity check QC to make sure downloads intact\n",
    "2. FastQC and/or Fastp\n",
    "3. Illumina adapter trimming with Fastp\n",
    "4. Barcode added to read heading of fastq files.\n",
    "5. Mapping with BWA-mem\n",
    "6. Read filtering for transposon tag and unique templates (determination of insertion site in genome)\n",
    "7. TA-site quantification and generation of insertion files (.wig)"
   ]
  },
  {
   "cell_type": "markdown",
   "metadata": {},
   "source": [
    "#### Necessary modules and scripts\n",
    "\n",
    "tnseq_pro.py module contains all the python functions for processing the fastq and sam files.\n",
    "\n",
    "snakemake/tnseq/ directory contains the necessary snakemake scripts for fastp and mapping"
   ]
  },
  {
   "cell_type": "markdown",
   "metadata": {},
   "source": [
    "### Download from genewiz and sanitiy checks"
   ]
  },
  {
   "cell_type": "code",
   "execution_count": null,
   "metadata": {
    "vscode": {
     "languageId": "shellscript"
    }
   },
   "outputs": [],
   "source": [
    "#download from genewiz sftp\n",
    "sftp jstien01_student_bbk@gweusftp.azenta.com\n",
    "lcd /d/in16/u/sj003/men_tnseq\n",
    "cd 40-842749567\n",
    "mget *"
   ]
  },
  {
   "cell_type": "code",
   "execution_count": null,
   "metadata": {
    "vscode": {
     "languageId": "shellscript"
    }
   },
   "outputs": [],
   "source": [
    "#check length of files to see if reads same in all files?\n",
    "cd fastq\n",
    "FILES=*.fastq.gz\n",
    "for file in $FILES; do wc -l $file; done >> sanity_check.txt\n",
    "\n",
    "# check files downloaded correctly\n",
    "for file in $FILES; do md5sum -c $file.md5; done >> md5_check.txt\n",
    "\n",
    "#head\n",
    "for file in $FILES; do echo $file; zcat $file | head -10 $file; done\n"
   ]
  },
  {
   "cell_type": "markdown",
   "metadata": {},
   "source": [
    "### FastQC on all reads"
   ]
  },
  {
   "cell_type": "code",
   "execution_count": null,
   "metadata": {
    "vscode": {
     "languageId": "shellscript"
    }
   },
   "outputs": [],
   "source": [
    "cd fastq\n",
    "module load fastqc\n",
    "module load multiqc\n",
    "FILES=*.fastq.gz\n",
    "for f in $FILES; do fastqc ${f} -o fastqc; done\n",
    "cd fastqc\n",
    "multiqc .\n"
   ]
  },
  {
   "cell_type": "markdown",
   "metadata": {},
   "source": [
    "### Fastp for quality control and Illumina adapter trimming of read 1 only \n",
    "\n",
    "Don't allow automatic detection or will trim transposon tags which are needed for insertion site confirmation and position. This shouldn't actually trim that many files as most were probably trimmed by genewiz processing.\n",
    "\n",
    "config.yaml must be present in working directory"
   ]
  },
  {
   "cell_type": "raw",
   "metadata": {},
   "source": [
    "#config.yaml\n",
    "samples: [A1_R1_001, A2_R1_001, ...]\n",
    "PATH: <path to fastq file directory>\n",
    "genomeFile: ref_seqs/Mbovis_AF2122-97.fasta\n"
   ]
  },
  {
   "cell_type": "code",
   "execution_count": null,
   "metadata": {
    "vscode": {
     "languageId": "shellscript"
    }
   },
   "outputs": [],
   "source": [
    "cd fastp\n",
    "conda activate snakemake\n",
    "snakemake -np -s ~/snakemake/tnseq/fastp/snakefile.smk\n",
    "snakemake --cores 4 -s ~/snakemake/tnseq/fastp/snakefile.smk\n",
    "#bash command for each file\n",
    "#fastp -a GATCGGAAGAGCACACGTCTGAACTCCAGTCAC -i fastq/<infile.fastq> -o trimmed/<outfile.fastq>"
   ]
  },
  {
   "cell_type": "markdown",
   "metadata": {},
   "source": [
    "### Move barcodes from P7 index read to the name portion of the header of R1 reads. \n",
    "\n",
    "P7 indexes were delivered as R2 fastq files from genewiz.\n",
    "\n",
    "Reads will be converted from trimmed reads in fastq format to fasta format (header and sequence only). This takes around 5 minutes per file on laptop."
   ]
  },
  {
   "cell_type": "code",
   "execution_count": null,
   "metadata": {},
   "outputs": [],
   "source": [
    "# iterate through files\n",
    "import scripts.tnseq_pro as tn\n",
    "\n",
    "#read all files in directory\n",
    "trimmed_files = \"fastq/trimmed/\"\n",
    "barcoded_dir = \"barcoded/\"\n",
    "tn.iterate_add_barcode(trimmed_files, barcoded_dir)\n",
    "    "
   ]
  },
  {
   "cell_type": "markdown",
   "metadata": {},
   "source": [
    "### Map trimmed and barcoded reads with BWA-mem\n",
    "\n",
    "Use snakemake pipeline to:\n",
    "\n",
    "1. map (bwa-mem)\n",
    "2. sort (samtools)\n",
    "3. index (samtools)\n",
    "4. filter for mapped reads only (samtools)\n",
    "5. compile read statistics (samtools)\n",
    "\n",
    "BWA generated index file (.fasta.fai) must be present in same file as reference fasta"
   ]
  },
  {
   "cell_type": "code",
   "execution_count": null,
   "metadata": {
    "vscode": {
     "languageId": "shellscript"
    }
   },
   "outputs": [],
   "source": [
    "conda activate tnseq\n",
    "# have to index file first (generate .fasta.fai) for bwa-mem\n",
    "bwa-mem2 index ref_seqs/Mbovis_AF2122-97.fasta"
   ]
  },
  {
   "cell_type": "code",
   "execution_count": null,
   "metadata": {
    "vscode": {
     "languageId": "shellscript"
    }
   },
   "outputs": [],
   "source": [
    "\n",
    "# with snakemake (maps, sorts, indexes and creates flagstats report)\n",
    "#make config.yaml file\n",
    "\n",
    "cd ~/tn_seq/menadione_tnseq/\n",
    "conda activate snakemake\n",
    "snakemake -np -s ~/snakemake/tnseq/mapping/snakefile.smk\n",
    "snakemake --cores 2 -s ~/snakemake/tnseq/mapping/snakefile.smk\n",
    "#!snakemake -np -s $my_path/snakemake/tnseq/snakefile.smk\n",
    "#!nohup snakemake --cores 8 -s $my_path/snakemake/map_bwa/pe/snakefile.smk > nohup_map.out 2>&1 &"
   ]
  },
  {
   "cell_type": "markdown",
   "metadata": {},
   "source": [
    "## Filtering and quantification\n",
    "\n",
    "One function: 'sam_to_wig' is used for:\n",
    "\n",
    "1. filtering for mapped reads with recognised transposon tag (indicating transposon-gDNA junction) \n",
    "2. Matching mapped reads to insertion site (TA-site)\n",
    "3. reducing reads to unique template counts (eliminating duplicates based on same barcode/insertion)\n",
    "4. Quantifying number of reads per TA-site in genome and creating .wig file\n",
    "\n"
   ]
  },
  {
   "cell_type": "code",
   "execution_count": 15,
   "metadata": {
    "vscode": {
     "languageId": "shellscript"
    }
   },
   "outputs": [
    {
     "name": "stdout",
     "output_type": "stream",
     "text": [
      "['sorted_reads/mapped_A1_R1_001.sam']\n",
      "A1\n",
      "sorted_reads/mapped_A1_R1_001.sam\n"
     ]
    },
    {
     "ename": "KeyboardInterrupt",
     "evalue": "",
     "output_type": "error",
     "traceback": [
      "\u001b[0;31m---------------------------------------------------------------------------\u001b[0m",
      "\u001b[0;31mKeyboardInterrupt\u001b[0m                         Traceback (most recent call last)",
      "Cell \u001b[0;32mIn[15], line 19\u001b[0m\n\u001b[1;32m     17\u001b[0m \u001b[39mprint\u001b[39m(sample_name)\n\u001b[1;32m     18\u001b[0m \u001b[39mprint\u001b[39m(file)\n\u001b[0;32m---> 19\u001b[0m tn\u001b[39m.\u001b[39;49msam_to_wig(file, bovis_fasta, sample_name)\n",
      "File \u001b[0;32m~/tn_seq/menadione_tnseq/scripts/tnseq_pro.py:440\u001b[0m, in \u001b[0;36msam_to_wig\u001b[0;34m(samfile, genome_fasta, sample_name)\u001b[0m\n\u001b[1;32m    438\u001b[0m ta_sites    \u001b[39m=\u001b[39m find_insertion_sites(fasta_seq)\n\u001b[1;32m    439\u001b[0m \u001b[39m# make list of the positions of every insertion from unique templates\u001b[39;00m\n\u001b[0;32m--> 440\u001b[0m template_positions \u001b[39m=\u001b[39m filter_mapped_reads3(samfile)\n\u001b[1;32m    441\u001b[0m \u001b[39m#count number of reads per ta site\u001b[39;00m\n\u001b[1;32m    442\u001b[0m res\u001b[39m=\u001b[39massign_counts_to_sites(ta_sites, template_positions)\n",
      "File \u001b[0;32m~/tn_seq/menadione_tnseq/scripts/tnseq_pro.py:194\u001b[0m, in \u001b[0;36mfilter_mapped_reads3\u001b[0;34m(sam_file, tag, mismatch_max)\u001b[0m\n\u001b[1;32m    192\u001b[0m \u001b[39m#add to list of all reads with insertions\u001b[39;00m\n\u001b[1;32m    193\u001b[0m barcode_list\u001b[39m.\u001b[39mappend(pos_barcode) \n\u001b[0;32m--> 194\u001b[0m barcode_list\u001b[39m.\u001b[39;49msort(key\u001b[39m=\u001b[39;49mitemgetter(\u001b[39m0\u001b[39;49m))  \u001b[39m#maybe this will speed up search ordering by position--but sorting will add time\u001b[39;00m\n\u001b[1;32m    195\u001b[0m \u001b[39m# if hasn't been added before, add read to unique template reads\u001b[39;00m\n\u001b[1;32m    196\u001b[0m \u001b[39mif\u001b[39;00m barcode_list\u001b[39m.\u001b[39mcount(pos_barcode) \u001b[39m<\u001b[39m \u001b[39m2\u001b[39m:\n",
      "\u001b[0;31mKeyboardInterrupt\u001b[0m: "
     ]
    }
   ],
   "source": [
    "#iterate through samples and run sam_to_wig script\n",
    "\n",
    "# iterate through files\n",
    "import scripts.tnseq_pro as tn\n",
    "\n",
    "# make list of .sam files in directory\n",
    "import os\n",
    "import glob\n",
    "import re\n",
    "sam_files = glob.glob(\"sorted_reads\" + \"/*.sam\")\n",
    "print(sam_files)\n",
    "bovis_fasta = \"ref_seqs/Mbovis_AF2122-97.fasta\"\n",
    "for file in sam_files:\n",
    "    #find sample name from file\n",
    "    sample_filename = os.path.basename(file).split(\".\")[0]\n",
    "    sample_name = re.findall(r'mapped_(\\w*)_R1_001', sample_filename)[0]\n",
    "    print(sample_name)\n",
    "    print(file)\n",
    "    tn.sam_to_wig(file, bovis_fasta, sample_name)"
   ]
  },
  {
   "cell_type": "code",
   "execution_count": null,
   "metadata": {
    "vscode": {
     "languageId": "shellscript"
    }
   },
   "outputs": [],
   "source": [
    "#add a counter to script to monitor progress"
   ]
  }
 ],
 "metadata": {
  "kernelspec": {
   "display_name": "dna",
   "language": "python",
   "name": "python3"
  },
  "language_info": {
   "codemirror_mode": {
    "name": "ipython",
    "version": 3
   },
   "file_extension": ".py",
   "mimetype": "text/x-python",
   "name": "python",
   "nbconvert_exporter": "python",
   "pygments_lexer": "ipython3",
   "version": "3.8.15"
  },
  "orig_nbformat": 4
 },
 "nbformat": 4,
 "nbformat_minor": 2
}
